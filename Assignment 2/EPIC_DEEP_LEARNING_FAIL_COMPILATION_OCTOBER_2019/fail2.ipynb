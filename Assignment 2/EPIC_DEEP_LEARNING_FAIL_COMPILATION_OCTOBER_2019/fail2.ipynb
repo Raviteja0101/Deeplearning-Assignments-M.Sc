{
 "cells": [
  {
   "cell_type": "code",
   "execution_count": 8,
   "metadata": {},
   "outputs": [
    {
     "data": {
      "text/plain": [
       "'\\nlr=0.1\\naf = relu\\nw_range=0.1\\nbatch = 256\\nstep=4000\\n'"
      ]
     },
     "execution_count": 8,
     "metadata": {},
     "output_type": "execute_result"
    }
   ],
   "source": [
    "\"\"\"\n",
    "lr=0.1\n",
    "af = relu\n",
    "w_range=0.1\n",
    "batch = 256\n",
    "step=2000\n",
    "step=4000\n",
    "Loss: 0.2918747663497925 Accuracy: 0.9296875\n",
    "Final test accuracy: 0.9363999962806702\n",
    "\"\"\"\n",
    "\"\"\"\n",
    "lr=0.1\n",
    "af = relu\n",
    "w_range=0.1\n",
    "batch = 256\n",
    "step=4000\n",
    "Loss: 0.0701780766248703 Accuracy: 0.984375\n",
    "Starting new epoch...\n",
    "Final test accuracy: 0.9546999931335449\n",
    "\"\"\""
   ]
  },
  {
   "cell_type": "code",
   "execution_count": 26,
   "metadata": {},
   "outputs": [
    {
     "name": "stdout",
     "output_type": "stream",
     "text": [
      "Loss: 2.3025710582733154 Accuracy: 0.1171875\n",
      "Loss: 2.300504446029663 Accuracy: 0.11328125\n",
      "Loss: 2.2967710494995117 Accuracy: 0.125\n",
      "Starting new epoch...\n",
      "Loss: 2.300930976867676 Accuracy: 0.11328125\n",
      "Loss: 2.3035519123077393 Accuracy: 0.0859375\n",
      "Starting new epoch...\n",
      "Loss: 2.29860520362854 Accuracy: 0.11328125\n",
      "Loss: 2.2987282276153564 Accuracy: 0.11328125\n",
      "Loss: 2.2897772789001465 Accuracy: 0.09765625\n",
      "Starting new epoch...\n",
      "Loss: 2.158745288848877 Accuracy: 0.26953125\n",
      "Loss: 1.7548707723617554 Accuracy: 0.2578125\n",
      "Starting new epoch...\n",
      "Loss: 1.6172513961791992 Accuracy: 0.3828125\n",
      "Loss: 1.2666242122650146 Accuracy: 0.5234375\n",
      "Starting new epoch...\n",
      "Loss: 1.028084635734558 Accuracy: 0.59375\n",
      "Loss: 0.994225800037384 Accuracy: 0.69140625\n",
      "Loss: 0.8271223306655884 Accuracy: 0.703125\n",
      "Starting new epoch...\n",
      "Loss: 1.1451497077941895 Accuracy: 0.6171875\n",
      "Loss: 0.6656579971313477 Accuracy: 0.7890625\n",
      "Starting new epoch...\n",
      "Loss: 0.5196573734283447 Accuracy: 0.87890625\n",
      "Loss: 0.2839604616165161 Accuracy: 0.91796875\n",
      "Starting new epoch...\n",
      "Loss: 0.2512349486351013 Accuracy: 0.9296875\n",
      "Loss: 0.31576773524284363 Accuracy: 0.921875\n",
      "Loss: 0.18316054344177246 Accuracy: 0.94140625\n",
      "Starting new epoch...\n",
      "Loss: 0.14719069004058838 Accuracy: 0.94921875\n",
      "Loss: 0.12170682102441788 Accuracy: 0.95703125\n",
      "Starting new epoch...\n",
      "Loss: 0.1388801485300064 Accuracy: 0.9609375\n",
      "Loss: 0.11053917557001114 Accuracy: 0.96484375\n",
      "Starting new epoch...\n",
      "Loss: 0.18615838885307312 Accuracy: 0.93359375\n",
      "Loss: 0.1312035769224167 Accuracy: 0.94921875\n",
      "Loss: 0.13776035606861115 Accuracy: 0.9609375\n",
      "Starting new epoch...\n",
      "Loss: 0.09542135149240494 Accuracy: 0.97265625\n",
      "Loss: 0.06509442627429962 Accuracy: 0.98828125\n",
      "Starting new epoch...\n",
      "Loss: 0.07606975734233856 Accuracy: 0.984375\n",
      "Loss: 0.12221483141183853 Accuracy: 0.96875\n",
      "Starting new epoch...\n",
      "Loss: 0.95563143491745 Accuracy: 0.703125\n",
      "Loss: 0.060655541718006134 Accuracy: 0.9765625\n",
      "Loss: 0.10091272741556168 Accuracy: 0.98046875\n",
      "Starting new epoch...\n",
      "Loss: 0.07789233326911926 Accuracy: 0.98046875\n",
      "Loss: 0.04891306161880493 Accuracy: 0.98046875\n",
      "Starting new epoch...\n",
      "Loss: 0.111649289727211 Accuracy: 0.96875\n",
      "Loss: 0.06265248358249664 Accuracy: 0.97265625\n",
      "Starting new epoch...\n",
      "Final test accuracy: 0.9629999995231628\n"
     ]
    }
   ],
   "source": [
    "import tensorflow as tf\n",
    "import os\n",
    "from datasets import MNISTDataset\n",
    "import time\n",
    "logdir = os.path.join(\"logs\", \"linearr\" + str(time.time()))\n",
    "train_writer = tf.summary.create_file_writer(os.path.join(os.getcwd(),logdir, \"train\"))\n",
    "test_writer = tf.summary.create_file_writer(os.path.join(os.getcwd(),logdir, \"test\"))\n",
    "\n",
    "# get the data\n",
    "(train_imgs, train_lbls), (test_imgs, test_lbls) = tf.keras.datasets.mnist.load_data()\n",
    "mnist = MNISTDataset(train_imgs.reshape((-1, 784)), train_lbls,\n",
    "                     test_imgs.reshape((-1, 784)), test_lbls,\n",
    "                     batch_size=256, seed=int(time.time()))\n",
    "\n",
    "\n",
    "# define the model first, from input to output\n",
    "\n",
    "# this is a super deep model, cool!\n",
    "n_units = 100\n",
    "n_layers = 8\n",
    "w_range = 0.1\n",
    "\n",
    "# just set up a \"chain\" of hidden layers\n",
    "layers = []\n",
    "for layer in range(n_layers):\n",
    "    layers.append(tf.keras.layers.Dense(\n",
    "        n_units, activation=tf.nn.relu,\n",
    "        kernel_initializer=tf.initializers.RandomUniform(minval=-w_range,\n",
    "                                                         maxval=w_range),\n",
    "        bias_initializer=tf.initializers.constant(0.001)))\n",
    "\n",
    "# finally add the output layer\n",
    "layers.append(tf.keras.layers.Dense(\n",
    "    10, kernel_initializer=tf.initializers.RandomUniform(minval=-w_range,\n",
    "                                                         maxval=w_range)))\n",
    "\n",
    "lr = 0.1\n",
    "for step in range(4000):\n",
    "    img_batch, lbl_batch = mnist.next_batch()\n",
    "    with tf.GradientTape() as tape:\n",
    "        # here we just run all the layers in sequence via a for-loop\n",
    "        out = img_batch\n",
    "        for layer in layers:\n",
    "            out = layer(out)\n",
    "        xent = tf.reduce_mean(tf.nn.sparse_softmax_cross_entropy_with_logits(\n",
    "            logits=out, labels=lbl_batch))\n",
    "\n",
    "    weights = [var for l in layers for var in l.trainable_variables]\n",
    "    grads = tape.gradient(xent, weights)\n",
    "    for grad, var in zip(grads, weights):\n",
    "        var.assign_sub(lr*grad)\n",
    "    i=0        \n",
    "    with train_writer.as_default():\n",
    "        tf.summary.scalar(\"loss\", xent, step=step)\n",
    "        tf.summary.histogram(\"logits\", out, step=step)\n",
    "        for W in weights:\n",
    "            tf.summary.histogram(\"weights\"+str(i), W, step=step)\n",
    "            i+=1\n",
    "    tf.summary.scalar(\"Loss\", xent, step=step)\n",
    "    \n",
    "    if not step % 100:\n",
    "        preds = tf.argmax(out, axis=1, output_type=tf.int32)\n",
    "        acc = tf.reduce_mean(tf.cast(tf.equal(preds, lbl_batch), tf.float32))\n",
    "        print(\"Loss: {} Accuracy: {}\".format(xent, acc))\n",
    "        with train_writer.as_default():\n",
    "            tf.summary.scalar(\"Trainaccuracy\", acc, step=step)\n",
    "            tf.summary.image(\"input\", tf.reshape(img_batch, [-1, 28, 28, 1]), step=step)\n",
    "\n",
    "out = mnist.test_data\n",
    "for layer in layers:\n",
    "    out = layer(out)\n",
    "test_preds = tf.argmax(out, axis=1, output_type=tf.int32)\n",
    "acc = tf.reduce_mean(tf.cast(tf.equal(test_preds, mnist.test_labels), tf.float32))\n",
    "with test_writer.as_default():\n",
    "    tf.summary.scalar(\"Testaccuracy\", acc, step=step)\n",
    "print(\"Final test accuracy: {}\".format(acc))"
   ]
  },
  {
   "cell_type": "code",
   "execution_count": 27,
   "metadata": {},
   "outputs": [
    {
     "name": "stdout",
     "output_type": "stream",
     "text": [
      "The tensorboard extension is already loaded. To reload it, use:\n",
      "  %reload_ext tensorboard\n"
     ]
    },
    {
     "data": {
      "text/plain": [
       "ERROR: Timed out waiting for TensorBoard to start. It may still be running as pid 13788."
      ]
     },
     "metadata": {},
     "output_type": "display_data"
    }
   ],
   "source": [
    "%load_ext tensorboard\n",
    "%tensorboard --logdir os.path.join(os.getcwd(),logdir)"
   ]
  }
 ],
 "metadata": {
  "kernelspec": {
   "display_name": "Python 3",
   "language": "python",
   "name": "python3"
  },
  "language_info": {
   "codemirror_mode": {
    "name": "ipython",
    "version": 3
   },
   "file_extension": ".py",
   "mimetype": "text/x-python",
   "name": "python",
   "nbconvert_exporter": "python",
   "pygments_lexer": "ipython3",
   "version": "3.7.4"
  }
 },
 "nbformat": 4,
 "nbformat_minor": 4
}
