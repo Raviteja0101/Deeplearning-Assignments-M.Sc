{
 "cells": [
  {
   "cell_type": "code",
   "execution_count": null,
   "metadata": {},
   "outputs": [],
   "source": [
    "# http://cs231n.stanford.edu/slides/2017/cs231n_2017_lecture6.pdf\n",
    "## Need to understand the plots. Why are the values in plot different from printed\n",
    "\"\"\"\n",
    "Exploding gradient problem\n",
    "Solns:\n",
    "added regularizations\n",
    "Changed variance in initialization\n",
    "Changed batch size\n",
    "Decreased learning rate\n",
    "\"\"\"\n",
    "\"\"\"\n",
    "with regularizations\n",
    "lr=0.0025\n",
    "batch=128\n",
    "Loss: 0.556975245475769 Accuracy: 0.796875\n",
    "Final test accuracy: 0.8029999732971191\n",
    "\"\"\"\n",
    "\"\"\"\n",
    "lr = 0.0025\n",
    "no regularizations\n",
    "batch sizea=128\n",
    "Train accuracy: 0.875\n",
    "Test accuracy: 0.8687999844551086\n",
    "\"\"\"\n",
    "\"\"\"\n",
    "lr = 0.001\n",
    "batch=128\n",
    "Loss: 0.7130742073059082 Accuracy: 0.7578125\n",
    "Final test accuracy: 0.7803999781608582\n",
    "\"\"\""
   ]
  },
  {
   "cell_type": "code",
   "execution_count": 26,
   "metadata": {},
   "outputs": [
    {
     "name": "stdout",
     "output_type": "stream",
     "text": [
      "Loss: 104.44222259521484 Accuracy: 0.0546875\n",
      "Loss: 2.529419422149658 Accuracy: 0.4609375\n",
      "Loss: 1.940325140953064 Accuracy: 0.4140625\n",
      "Loss: 1.449946641921997 Accuracy: 0.5234375\n",
      "Loss: 1.214517593383789 Accuracy: 0.640625\n",
      "Starting new epoch...\n",
      "Loss: 1.021724820137024 Accuracy: 0.6875\n",
      "Loss: 0.9539246559143066 Accuracy: 0.6953125\n",
      "Loss: 0.7553335428237915 Accuracy: 0.7109375\n",
      "Loss: 0.7975450754165649 Accuracy: 0.703125\n",
      "Loss: 0.7668576240539551 Accuracy: 0.703125\n",
      "Starting new epoch...\n",
      "Loss: 0.5632084608078003 Accuracy: 0.8046875\n",
      "Loss: 0.7695791721343994 Accuracy: 0.78125\n",
      "Loss: 0.863564133644104 Accuracy: 0.71875\n",
      "Loss: 0.8433808088302612 Accuracy: 0.6484375\n",
      "Loss: 0.7873533964157104 Accuracy: 0.7421875\n",
      "Starting new epoch...\n",
      "Loss: 0.8399887084960938 Accuracy: 0.734375\n",
      "Loss: 0.6575472354888916 Accuracy: 0.8203125\n",
      "Loss: 0.6086424589157104 Accuracy: 0.7890625\n",
      "Loss: 0.5494330525398254 Accuracy: 0.8515625\n",
      "Starting new epoch...\n",
      "Loss: 0.5667954683303833 Accuracy: 0.8046875\n",
      "Final test accuracy: 0.8179000020027161\n"
     ]
    }
   ],
   "source": [
    "import tensorflow as tf\n",
    "import os\n",
    "\n",
    "from datasets import MNISTDataset\n",
    "import time # first change: set up log dir and file writer(s)\n",
    "logdir = os.path.join(\"logs\", \"linear\" + str(time.time()))\n",
    "train_writer = tf.summary.create_file_writer(os.path.join(logdir, \"train\"))\n",
    "test_writer = tf.summary.create_file_writer(os.path.join(logdir, \"test\"))\n",
    "\n",
    "# get the data\n",
    "(train_imgs, train_lbls), (test_imgs, test_lbls) = tf.keras.datasets.mnist.load_data()\n",
    "mnist = MNISTDataset(train_imgs.reshape((-1, 784)), train_lbls,\n",
    "                     test_imgs.reshape((-1, 784)), test_lbls,\n",
    "                     batch_size=128, seed=int(time.time()))\n",
    "\n",
    "\n",
    "# define the model first, from input to output\n",
    "\n",
    "# this is a super deep model, cool!\n",
    "n_units = 100\n",
    "n_layers = 8\n",
    "w_range = 0.4\n",
    "\n",
    "# just set up a \"chain\" of hidden layers\n",
    "layers = []\n",
    "for layer in range(n_layers):\n",
    "    layers.append(tf.keras.layers.Dense(\n",
    "        n_units, activation=tf.nn.relu,\n",
    "        kernel_initializer=tf.initializers.RandomUniform(minval=-w_range,\n",
    "                                                         maxval=w_range),\n",
    "        bias_initializer=tf.initializers.constant(0.001),\n",
    "        activity_regularizer=tf.keras.regularizers.l2(0.1)))\n",
    "\n",
    "# finally add the output layer\n",
    "layers.append(tf.keras.layers.Dense(\n",
    "    10, kernel_initializer=tf.initializers.RandomUniform(minval=-w_range,\n",
    "                                                         maxval=w_range),\n",
    "        bias_initializer=tf.initializers.constant(0.001),\n",
    "        activity_regularizer=tf.keras.regularizers.l2(0.1)))\n",
    "\"\"\"\n",
    "\n",
    "        kernel_regularizer=tf.keras.regularizers.l1(0.3),\n",
    "        bias_regularizer=tf.keras.regularizers.l1(0.3),\n",
    "\n",
    "# just set up a \"chain\" of hidden layers\n",
    "layers = []\n",
    "for layer in range(n_layers):\n",
    "    layers.append(tf.keras.layers.Dense(\n",
    "        n_units, activation=tf.nn.relu,\n",
    "        kernel_initializer=tf.initializers.RandomUniform(minval=-w_range,\n",
    "                                                         maxval=w_range)))\n",
    "\n",
    "# finally add the output layer\n",
    "layers.append(tf.keras.layers.Dense(\n",
    "    10, kernel_initializer=tf.initializers.RandomUniform(minval=-w_range,\n",
    "                                                         maxval=w_range),\n",
    "        bias_initializer=tf.initializers.constant(0.001)))\n",
    "\"\"\"\n",
    "lr = 0.0025\n",
    "for step in range(2000):\n",
    "    img_batch, lbl_batch = mnist.next_batch()\n",
    "    with tf.GradientTape() as tape:\n",
    "        # here we just run all the layers in sequence via a for-loop\n",
    "        out = img_batch\n",
    "        for layer in layers:\n",
    "            out = layer(out)\n",
    "        xent = tf.reduce_mean(tf.nn.sparse_softmax_cross_entropy_with_logits(\n",
    "            logits=out, labels=lbl_batch))\n",
    "\n",
    "    weights = [var for l in layers for var in l.trainable_variables]\n",
    "    grads = tape.gradient(xent, weights)\n",
    "    for grad, var in zip(grads, weights):\n",
    "        var.assign_sub(lr*grad)\n",
    "    i=0        \n",
    "    with train_writer.as_default():\n",
    "        tf.summary.scalar(\"loss\", xent, step=step)\n",
    "        tf.summary.histogram(\"logits\", out, step=step)\n",
    "        for W in weights:\n",
    "            tf.summary.histogram(\"weights\"+str(i), W, step=step)\n",
    "            i+=1\n",
    "    tf.summary.scalar(\"Loss\", xent, step=step)\n",
    "    if not step % 100:\n",
    "        preds = tf.argmax(out, axis=1, output_type=tf.int32)\n",
    "        acc = tf.reduce_mean(tf.cast(tf.equal(preds, lbl_batch), tf.float32))\n",
    "        print(\"Loss: {} Accuracy: {}\".format(xent, acc))\n",
    "        with train_writer.as_default():\n",
    "            tf.summary.scalar(\"Trainaccuracy\", acc, step=step)\n",
    "            tf.summary.image(\"input\", tf.reshape(img_batch, [-1, 28, 28, 1]), step=step)\n",
    "\n",
    "\n",
    "out = mnist.test_data\n",
    "for layer in layers:\n",
    "    out = layer(out)\n",
    "test_preds = tf.argmax(out, axis=1, output_type=tf.int32)\n",
    "acc = tf.reduce_mean(tf.cast(tf.equal(test_preds, mnist.test_labels), tf.float32))\n",
    "with test_writer.as_default():\n",
    "    tf.summary.scalar(\"Testaccuracy\", acc, step=step)\n",
    "print(\"Final test accuracy: {}\".format(acc))\n"
   ]
  },
  {
   "cell_type": "code",
   "execution_count": 35,
   "metadata": {},
   "outputs": [
    {
     "name": "stdout",
     "output_type": "stream",
     "text": [
      "The tensorboard extension is already loaded. To reload it, use:\n",
      "  %reload_ext tensorboard\n"
     ]
    },
    {
     "data": {
      "text/plain": [
       "Reusing TensorBoard on port 6006 (pid 20316), started 1 day, 1:05:07 ago. (Use '!kill 20316' to kill it.)"
      ]
     },
     "metadata": {},
     "output_type": "display_data"
    },
    {
     "data": {
      "text/html": [
       "\n",
       "      <iframe id=\"tensorboard-frame-170709cf3eb9cd45\" width=\"100%\" height=\"800\" frameborder=\"0\">\n",
       "      </iframe>\n",
       "      <script>\n",
       "        (function() {\n",
       "          const frame = document.getElementById(\"tensorboard-frame-170709cf3eb9cd45\");\n",
       "          const url = new URL(\"/\", window.location);\n",
       "          url.port = 6006;\n",
       "          frame.src = url;\n",
       "        })();\n",
       "      </script>\n",
       "  "
      ],
      "text/plain": [
       "<IPython.core.display.HTML object>"
      ]
     },
     "metadata": {},
     "output_type": "display_data"
    }
   ],
   "source": [
    "%load_ext tensorboard\n",
    "\n",
    "%tensorboard --logdir logs"
   ]
  },
  {
   "cell_type": "code",
   "execution_count": 34,
   "metadata": {},
   "outputs": [
    {
     "data": {
      "text/plain": [
       "'C:\\\\Users\\\\user\\\\Desktop\\\\Ovgu Educational\\\\IDL\\\\Ass2\\\\EPIC_DEEP_LEARNING_FAIL_COMPILATION_OCTOBER_2019\\\\logs'"
      ]
     },
     "execution_count": 34,
     "metadata": {},
     "output_type": "execute_result"
    }
   ],
   "source": [
    "os.path.join(os.getcwd(),'logs')\n"
   ]
  }
 ],
 "metadata": {
  "kernelspec": {
   "display_name": "Python 3",
   "language": "python",
   "name": "python3"
  },
  "language_info": {
   "codemirror_mode": {
    "name": "ipython",
    "version": 3
   },
   "file_extension": ".py",
   "mimetype": "text/x-python",
   "name": "python",
   "nbconvert_exporter": "python",
   "pygments_lexer": "ipython3",
   "version": "3.7.4"
  }
 },
 "nbformat": 4,
 "nbformat_minor": 4
}
