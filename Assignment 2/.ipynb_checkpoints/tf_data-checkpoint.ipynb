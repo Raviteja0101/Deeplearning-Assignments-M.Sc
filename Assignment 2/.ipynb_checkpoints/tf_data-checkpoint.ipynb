{
 "cells": [
  {
   "cell_type": "code",
   "execution_count": null,
   "metadata": {},
   "outputs": [],
   "source": [
    "# use this in colab!!\n",
    "#%tensorflow_version 2.x"
   ]
  },
  {
   "cell_type": "code",
   "execution_count": null,
   "metadata": {},
   "outputs": [],
   "source": [
    "# note: we do not need to involve this MNISTDataset thingy anymore =)\n",
    "import tensorflow as tf\n",
    "from matplotlib import pyplot as plt\n",
    "import numpy as np"
   ]
  },
  {
   "cell_type": "code",
   "execution_count": null,
   "metadata": {},
   "outputs": [],
   "source": [
    "# we can create a \"dummy\" dataset with range just to see how it works\n",
    "\n",
    "data = tf.data.Dataset.range(10)\n",
    "# uncomment any of the below (also multiple ones if you want) and run this cell each time. \n",
    "# make sure you understand what each transformation does!\n",
    "\n",
    "#data = data.shuffle(10)  # 10 is the buffer size -- play with this!!\n",
    "#data = data.batch(2)  # 2 is batch size -- change it!\n",
    "#data = data.repeat(5)  # number of repetitions\n",
    "\n",
    "\n",
    "elems = 0\n",
    "for thing in data:\n",
    "    elems += 1\n",
    "    print(thing.numpy())\n",
    "    print(type(thing))\n",
    "print(\"\\nTotal number of elements: {}\".format(elems))"
   ]
  },
  {
   "cell_type": "code",
   "execution_count": null,
   "metadata": {},
   "outputs": [],
   "source": []
  },
  {
   "cell_type": "code",
   "execution_count": null,
   "metadata": {},
   "outputs": [],
   "source": [
    "# basic MNIST\n",
    "\n",
    "# same thing we had earlier -- this just loads the numpy arrays\n",
    "mnist = tf.keras.datasets.mnist\n",
    "(train_images, train_labels), (test_images, test_labels) = mnist.load_data()\n",
    "\n",
    "# this is now different\n",
    "train_data = tf.data.Dataset.from_tensor_slices((train_images, train_labels))\n",
    "\n",
    "# we can iterate through the data and check what it looks like\n",
    "for img, lbl in train_data:\n",
    "    print(lbl.numpy())\n",
    "    plt.imshow(img.numpy(), cmap=\"Greys_r\")\n",
    "    plt.show()\n",
    "#    input()"
   ]
  },
  {
   "cell_type": "code",
   "execution_count": null,
   "metadata": {},
   "outputs": [],
   "source": [
    "# things we really gotta do:\n",
    "# - normalize the images to [0, 1] (first convert to float)\n",
    "# - reshape images from (28, 28) to (784,) (although we could do this later!)\n",
    "# - convert labels to int32 (otherwise tensorflow is gonna be sad :( )\n",
    "\n",
    "train_images = (train_images.astype(np.float32) / 255.).reshape((-1, 784))\n",
    "test_images = (test_images.astype(np.float32) / 255.).reshape((-1, 784))\n",
    "\n",
    "train_labels = train_labels.astype(np.int32)\n",
    "test_labels = test_labels.astype(np.int32)\n",
    "\n",
    "train_data = tf.data.Dataset.from_tensor_slices((train_images, train_labels))\n",
    "train_data = train_data.batch(128)\n",
    "print(train_data.shape)\n",
    "\n",
    "# just print the shapes to get an idea of what we have here (note the additional batch axis)\n",
    "# also note the size of the very last batch!\n",
    "for img_batch, lbl_batch in train_data:\n",
    "    print(img_batch.shape, lbl_batch.shape)\n",
    "    \n",
    "    \n",
    "# in principle this is it, and you can use these batches as input to your model!\n",
    "# BUT: you should shuffle your data and maybe repeat as well (see assignment)!"
   ]
  },
  {
   "cell_type": "code",
   "execution_count": 28,
   "metadata": {},
   "outputs": [],
   "source": [
    "def processData():\n",
    "    import tensorflow as tf\n",
    "    import numpy as np\n",
    "    mnist = tf.keras.datasets.mnist\n",
    "    (train_images, train_labels), (test_images, test_labels) = mnist.load_data()\n",
    "\n",
    "    #Normalization and Flattening\n",
    "    train_images = (train_images.astype(np.float32) / 255.).reshape((-1, 784))\n",
    "    test_images = (test_images.astype(np.float32) / 255.).reshape((-1, 784))\n",
    "\n",
    "    #Convsersion of Labels into integers\n",
    "    train_labels = train_labels.astype(np.int32)\n",
    "    test_labels = test_labels.astype(np.int32)\n",
    "\n",
    "    train_data = tf.data.Dataset.from_tensor_slices((train_images, train_labels))\n",
    "    test_data = tf.data.Dataset.from_tensor_slices((test_images, test_labels))\n",
    "\n",
    "    print(\"\")\n",
    "    print(train_data)\n",
    "\n",
    "    return train_data\n",
    "\n"
   ]
  },
  {
   "cell_type": "code",
   "execution_count": 30,
   "metadata": {},
   "outputs": [
    {
     "name": "stdout",
     "output_type": "stream",
     "text": [
      "\n",
      "<TensorSliceDataset shapes: ((784,), ()), types: (tf.float32, tf.int32)>\n",
      "<TensorSliceDataset shapes: ((784,), ()), types: (tf.float32, tf.int32)>\n"
     ]
    }
   ],
   "source": [
    "train_data = processData()\n",
    "\n",
    "print(train_data)\n",
    "\n",
    "r=train_data\n",
    "s=train_data\n",
    "b=train_data\n",
    "\n"
   ]
  },
  {
   "cell_type": "code",
   "execution_count": 31,
   "metadata": {},
   "outputs": [
    {
     "data": {
      "text/plain": [
       "<TensorSliceDataset shapes: ((784,), ()), types: (tf.float32, tf.int32)>"
      ]
     },
     "execution_count": 31,
     "metadata": {},
     "output_type": "execute_result"
    }
   ],
   "source": [
    "r"
   ]
  },
  {
   "cell_type": "code",
   "execution_count": 32,
   "metadata": {},
   "outputs": [],
   "source": [
    "r = r.repeat(2)"
   ]
  },
  {
   "cell_type": "code",
   "execution_count": 33,
   "metadata": {},
   "outputs": [
    {
     "data": {
      "text/plain": [
       "<RepeatDataset shapes: ((784,), ()), types: (tf.float32, tf.int32)>"
      ]
     },
     "execution_count": 33,
     "metadata": {},
     "output_type": "execute_result"
    }
   ],
   "source": [
    "r"
   ]
  },
  {
   "cell_type": "code",
   "execution_count": 34,
   "metadata": {},
   "outputs": [
    {
     "data": {
      "text/plain": [
       "<TensorSliceDataset shapes: ((784,), ()), types: (tf.float32, tf.int32)>"
      ]
     },
     "execution_count": 34,
     "metadata": {},
     "output_type": "execute_result"
    }
   ],
   "source": [
    "s"
   ]
  },
  {
   "cell_type": "code",
   "execution_count": 38,
   "metadata": {},
   "outputs": [
    {
     "data": {
      "text/plain": [
       "<RepeatDataset shapes: ((784,), ()), types: (tf.float32, tf.int32)>"
      ]
     },
     "execution_count": 38,
     "metadata": {},
     "output_type": "execute_result"
    }
   ],
   "source": [
    "s=s.shuffle(buffer_size=100)\n",
    "s=r.repeat(2)\n",
    "s"
   ]
  },
  {
   "cell_type": "code",
   "execution_count": null,
   "metadata": {},
   "outputs": [],
   "source": [
    "for x in s"
   ]
  },
  {
   "cell_type": "code",
   "execution_count": null,
   "metadata": {},
   "outputs": [],
   "source": []
  },
  {
   "cell_type": "code",
   "execution_count": null,
   "metadata": {},
   "outputs": [],
   "source": []
  },
  {
   "cell_type": "code",
   "execution_count": null,
   "metadata": {},
   "outputs": [],
   "source": []
  },
  {
   "cell_type": "code",
   "execution_count": 97,
   "metadata": {},
   "outputs": [],
   "source": [
    "import tensorflow as tf\n",
    "range_ds = tf.data.Dataset.range(100)"
   ]
  },
  {
   "cell_type": "code",
   "execution_count": 107,
   "metadata": {},
   "outputs": [
    {
     "data": {
      "text/plain": [
       "<ShuffleDataset shapes: (), types: tf.int64>"
      ]
     },
     "execution_count": 107,
     "metadata": {},
     "output_type": "execute_result"
    }
   ],
   "source": [
    "s = range_ds.shuffle(buffer_size=2)\n",
    "s"
   ]
  },
  {
   "cell_type": "code",
   "execution_count": 108,
   "metadata": {},
   "outputs": [
    {
     "name": "stdout",
     "output_type": "stream",
     "text": [
      "0\n",
      "2\n",
      "1\n",
      "3\n",
      "4\n",
      "6\n",
      "7\n",
      "8\n",
      "9\n",
      "10\n",
      "11\n",
      "5\n",
      "12\n",
      "13\n",
      "15\n",
      "16\n",
      "17\n",
      "14\n",
      "18\n",
      "19\n",
      "20\n",
      "21\n",
      "23\n",
      "24\n",
      "22\n",
      "25\n",
      "26\n",
      "28\n",
      "29\n",
      "27\n",
      "30\n",
      "31\n",
      "32\n",
      "34\n",
      "33\n",
      "35\n",
      "36\n",
      "37\n",
      "38\n",
      "39\n",
      "41\n",
      "40\n",
      "43\n",
      "42\n",
      "44\n",
      "46\n",
      "45\n",
      "48\n",
      "47\n",
      "50\n",
      "51\n",
      "49\n",
      "52\n",
      "54\n",
      "53\n",
      "56\n",
      "57\n",
      "55\n",
      "58\n",
      "59\n",
      "61\n",
      "60\n",
      "62\n",
      "63\n",
      "65\n",
      "66\n",
      "67\n",
      "64\n",
      "68\n",
      "70\n",
      "71\n",
      "72\n",
      "69\n",
      "73\n",
      "75\n",
      "76\n",
      "74\n",
      "77\n",
      "78\n",
      "80\n",
      "79\n",
      "82\n",
      "81\n",
      "83\n",
      "85\n",
      "86\n",
      "84\n",
      "88\n",
      "89\n",
      "90\n",
      "87\n",
      "91\n",
      "92\n",
      "93\n",
      "94\n",
      "96\n",
      "95\n",
      "98\n",
      "99\n",
      "97\n"
     ]
    }
   ],
   "source": [
    "for x in s.take(100):\n",
    "  print(x.numpy())"
   ]
  },
  {
   "cell_type": "code",
   "execution_count": 109,
   "metadata": {},
   "outputs": [
    {
     "data": {
      "text/plain": [
       "<BatchDataset shapes: (20,), types: tf.int64>"
      ]
     },
     "execution_count": 109,
     "metadata": {},
     "output_type": "execute_result"
    }
   ],
   "source": [
    "ds = s.batch(20, drop_remainder=True)\n",
    "ds"
   ]
  },
  {
   "cell_type": "code",
   "execution_count": 110,
   "metadata": {},
   "outputs": [
    {
     "name": "stdout",
     "output_type": "stream",
     "text": [
      "[ 0  2  3  1  5  4  6  7  8  9 11 12 13 14 10 15 16 17 18 20]\n",
      "[21 22 19 24 25 26 23 27 29 28 31 30 32 33 34 35 36 38 39 40]\n",
      "[37 42 43 44 45 41 47 46 48 49 51 50 52 54 53 55 57 56 58 59]\n",
      "[61 60 63 64 65 66 67 62 68 70 71 69 72 73 75 74 77 78 79 76]\n",
      "[80 81 83 84 82 86 87 88 85 89 91 92 90 94 95 93 96 97 98 99]\n"
     ]
    }
   ],
   "source": [
    "for batch in ds.take(5):\n",
    "  print(batch.numpy())"
   ]
  },
  {
   "cell_type": "code",
   "execution_count": 111,
   "metadata": {},
   "outputs": [],
   "source": [
    "r = ds.repeat(2)"
   ]
  },
  {
   "cell_type": "code",
   "execution_count": 92,
   "metadata": {},
   "outputs": [
    {
     "name": "stdout",
     "output_type": "stream",
     "text": [
      "[60 61 62 63 64 65 66 67 68 69 70 71 72 73 74 75 76 77 78 79]\n",
      "[80 81 82 83 84 85 86 87 88 89 90 91 92 93 94 95 96 97 98 99]\n",
      "[40 41 42 43 44 45 46 47 48 49 50 51 52 53 54 55 56 57 58 59]\n",
      "[ 0  1  2  3  4  5  6  7  8  9 10 11 12 13 14 15 16 17 18 19]\n",
      "[20 21 22 23 24 25 26 27 28 29 30 31 32 33 34 35 36 37 38 39]\n"
     ]
    }
   ],
   "source": [
    "for x in r.take(100):\n",
    "  print(x.numpy())"
   ]
  },
  {
   "cell_type": "code",
   "execution_count": null,
   "metadata": {},
   "outputs": [],
   "source": []
  },
  {
   "cell_type": "code",
   "execution_count": null,
   "metadata": {},
   "outputs": [],
   "source": []
  }
 ],
 "metadata": {
  "kernelspec": {
   "display_name": "Python 3",
   "language": "python",
   "name": "python3"
  },
  "language_info": {
   "codemirror_mode": {
    "name": "ipython",
    "version": 3
   },
   "file_extension": ".py",
   "mimetype": "text/x-python",
   "name": "python",
   "nbconvert_exporter": "python",
   "pygments_lexer": "ipython3",
   "version": "3.7.4"
  }
 },
 "nbformat": 4,
 "nbformat_minor": 4
}
